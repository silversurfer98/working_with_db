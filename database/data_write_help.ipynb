{
 "cells": [
  {
   "cell_type": "code",
   "execution_count": 4,
   "metadata": {},
   "outputs": [],
   "source": [
    "bip = [ 0 , 0.202000007 , 0.5 , 2.10E-02 , 0.100000001 , 2.30E-02 , 3.60E-02 , 0 , 0 , -3.50E-02,\n",
    "0.202000007 , 0 , -0.299800009 , 2.53E-02 , 0.120200001 , 0 , -3.60E-02 , 0 , 0 , 0,\n",
    "0.5 , -0.299800009 , 0 , -0.389600009 , 4.45E-02 , 0.5 , -0.315600008 , 0 , -0.253300011 , -0.180000007,\n",
    "2.10E-02 , 2.53E-02 , -0.389600009 , 0 , -3.14E-02 , 0 , 1.15E-02 , 0 , 0 , 0,\n",
    "0.100000001 , 0.120200001 , 4.45E-02 , -3.14E-02 , 0 , 0 , -2.00E-02 , 9.75E-02 , 0 , 4.00E-02,\n",
    "2.30E-02 , 0 , 0.5 , 0 , 0 , 0 , 0 , 1.04E-02 , -0.180000007 , 0,\n",
    "3.60E-02 , -3.60E-02 , -0.315600008 , 1.15E-02 , -2.00E-02 , 0 , 0 , -1.20E-02 , 0.222000003 , -0.214100003,\n",
    "0 , 0 , 0 , 0 , 9.75E-02 , 1.04E-02 , -1.20E-02 , 0 , 0 , 0,\n",
    "0 , 0 , -0.253300011 , 0 , 0 , -0.180000007 , 0.222000003 , 0 , 0 , 0,\n",
    "-3.50E-02 , 0 , -0.180000007 , 0 , 4.00E-02 , 0 , -0.214100003 , 0 , 0 , 0 ]"
   ]
  },
  {
   "cell_type": "code",
   "execution_count": 3,
   "metadata": {},
   "outputs": [],
   "source": [
    "gas_name = [\"Methane\", \"Hydrogen\", \"H2O\", \"CO\", \"CO2\", \"Argon\", \"Nitrogen\", \"Oxygen\", \"Ammonia\", \"Methanol\"]"
   ]
  },
  {
   "cell_type": "code",
   "execution_count": 39,
   "metadata": {},
   "outputs": [
    {
     "name": "stdout",
     "output_type": "stream",
     "text": [
      "INSERT INTO bip VALUES('1', 'Methane', '0','0.202000007','0.5','0.021','0.100000001','0.023','0.036','0','0','-0.035',);\n",
      "INSERT INTO bip VALUES('2', 'Hydrogen', '0.202000007','0','-0.299800009','0.0253','0.120200001','0','-0.036','0','0','0',);\n",
      "INSERT INTO bip VALUES('3', 'H2O', '0.5','-0.299800009','0','-0.389600009','0.0445','0.5','-0.315600008','0','-0.253300011','-0.180000007',);\n",
      "INSERT INTO bip VALUES('4', 'CO', '0.021','0.0253','-0.389600009','0','-0.0314','0','0.0115','0','0','0',);\n",
      "INSERT INTO bip VALUES('5', 'CO2', '0.100000001','0.120200001','0.0445','-0.0314','0','0','-0.02','0.0975','0','0.04',);\n",
      "INSERT INTO bip VALUES('6', 'Argon', '0.023','0','0.5','0','0','0','0','0.0104','-0.180000007','0',);\n",
      "INSERT INTO bip VALUES('7', 'Nitrogen', '0.036','-0.036','-0.315600008','0.0115','-0.02','0','0','-0.012','0.222000003','-0.214100003',);\n",
      "INSERT INTO bip VALUES('8', 'Oxygen', '0','0','0','0','0.0975','0.0104','-0.012','0','0','0',);\n",
      "INSERT INTO bip VALUES('9', 'Ammonia', '0','0','-0.253300011','0','0','-0.180000007','0.222000003','0','0','0',);\n",
      "INSERT INTO bip VALUES('10', 'Methanol', '-0.035','0','-0.180000007','0','0.04','0','-0.214100003','0','0','0',);\n"
     ]
    }
   ],
   "source": [
    "st = str()\n",
    "for j in range(0,10):\n",
    "    st = 'INSERT INTO bip VALUES('+'\\'' + str(j+1) +'\\'' + ', '+'\\'' + gas_name[j] + '\\'' + ', '\n",
    "    #print(st)\n",
    "    for i in range(0,10):\n",
    "        st = st +  '\\''+ str(bip[j*10 + i]) + '\\'' + ','\n",
    "    print(st+');')"
   ]
  },
  {
   "cell_type": "code",
   "execution_count": 40,
   "metadata": {},
   "outputs": [],
   "source": [
    "cp=[4.598,0.01245,0.00000286,-0.000000002703,6.483,0.002215,-0.000003298,0.000000001826,7.701,0.0004595,0.000002521,-0.000000000859,7.373,-0.00307,0.000006662,-0.000000003037,4.728,0.01754,-0.00001338,0.000000004097,4.969,-0.00000767,0.00000001234,0,7.44,-0.00324,0.0000064,-0.00000000279,6.713,-0.000000879,0.00000417,-0.000000002544,6.524,0.005692,0.000004078,-0.00000000283,5.052,0.01694,0.000006179,-0.000000006811]"
   ]
  },
  {
   "cell_type": "code",
   "execution_count": 46,
   "metadata": {},
   "outputs": [
    {
     "name": "stdout",
     "output_type": "stream",
     "text": [
      "INSERT INTO c_ideal VALUES('1', 'Methane', '4.598','0.01245','2.86e-06','-2.703e-09');\n",
      "INSERT INTO c_ideal VALUES('2', 'Hydrogen', '6.483','0.002215','-3.298e-06','1.826e-09');\n",
      "INSERT INTO c_ideal VALUES('3', 'H2O', '7.701','0.0004595','2.521e-06','-8.59e-10');\n",
      "INSERT INTO c_ideal VALUES('4', 'CO', '7.373','-0.00307','6.662e-06','-3.037e-09');\n",
      "INSERT INTO c_ideal VALUES('5', 'CO2', '4.728','0.01754','-1.338e-05','4.097e-09');\n",
      "INSERT INTO c_ideal VALUES('6', 'Argon', '4.969','-7.67e-06','1.234e-08','0');\n",
      "INSERT INTO c_ideal VALUES('7', 'Nitrogen', '7.44','-0.00324','6.4e-06','-2.79e-09');\n",
      "INSERT INTO c_ideal VALUES('8', 'Oxygen', '6.713','-8.79e-07','4.17e-06','-2.544e-09');\n",
      "INSERT INTO c_ideal VALUES('9', 'Ammonia', '6.524','0.005692','4.078e-06','-2.83e-09');\n",
      "INSERT INTO c_ideal VALUES('10', 'Methanol', '5.052','0.01694','6.179e-06','-6.811e-09');\n"
     ]
    }
   ],
   "source": [
    "st = str()\n",
    "for j in range(0,10):\n",
    "    st = 'INSERT INTO c_ideal VALUES('+'\\'' + str(j+1) +'\\'' + ', '+'\\'' + gas_name[j] + '\\'' + ', '\n",
    "    #print(st)\n",
    "    for i in range(0,4):\n",
    "        st = st +  '\\''+ str(cp[j*4 + i]) + '\\'' + ','\n",
    "    print(st.rstrip(st[-1])+');')"
   ]
  }
 ],
 "metadata": {
  "kernelspec": {
   "display_name": "Python 3.10.6 64-bit",
   "language": "python",
   "name": "python3"
  },
  "language_info": {
   "codemirror_mode": {
    "name": "ipython",
    "version": 3
   },
   "file_extension": ".py",
   "mimetype": "text/x-python",
   "name": "python",
   "nbconvert_exporter": "python",
   "pygments_lexer": "ipython3",
   "version": "3.10.6"
  },
  "orig_nbformat": 4,
  "vscode": {
   "interpreter": {
    "hash": "97195ad6b61c195d6b190f589c8c74ff7d2239593703f89b63e11093608db5e8"
   }
  }
 },
 "nbformat": 4,
 "nbformat_minor": 2
}
